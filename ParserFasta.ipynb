{
 "cells": [
  {
   "cell_type": "code",
   "execution_count": null,
   "metadata": {},
   "outputs": [],
   "source": [
    "import os\n",
    "from pathlib import Path\n",
    "from Bio import SeqIO\n",
    "import re"
   ]
  },
  {
   "cell_type": "code",
   "execution_count": null,
   "metadata": {},
   "outputs": [],
   "source": [
    "# provide the path for saving the filtered new fasta files\n",
    "dirPath = \"provide the path for saving the filtered new fasta files\"\n",
    "\n",
    "#common extension of all the fasta files if its different than the .fasta\n",
    "ext = ('_contigs.fasta') \n",
    "\n",
    "# empty contigs string to store the files in the target directory \n",
    "contigs = ''"
   ]
  },
  {
   "cell_type": "code",
   "execution_count": null,
   "metadata": {},
   "outputs": [],
   "source": [
    "def is_fasta(filepath):\n",
    "    \"\"\"\n",
    "    -------------------------------------------------------------------\n",
    "        is_fasta\n",
    "        Takes in the path of the file as an argument \n",
    "        Checks if the file is a Fasta file or wrong file format \n",
    "    -------------------------------------------------------------------\n",
    "    \n",
    "    \"\"\"\n",
    "\n",
    "    with open(filepath) as file:\n",
    "        # checking if the file is readable or not\n",
    "        one_char = file.read(1)\n",
    "        try:\n",
    "            # checking for the fasta file format identifier\n",
    "            if one_char == '>':\n",
    "                print('File is good')\n",
    "            elif one_char != '>':\n",
    "                print('WARNING: Does not contain fasta file formatting')\n",
    "\n",
    "        except:\n",
    "            print('Cannot read the file')"
   ]
  },
  {
   "cell_type": "code",
   "execution_count": null,
   "metadata": {},
   "outputs": [],
   "source": [
    "\n",
    "def fastainfo(fileHandle):\n",
    "    \"\"\"\n",
    "    -------------------------------------------------------------------\n",
    "    fastainfo \n",
    "    Process a fasta file  \n",
    "    returns the count of the number of sequnces and the total number of \n",
    "    residues in those sequences.\n",
    "    -------------------------------------------------------------------\n",
    "    \n",
    "    \"\"\"\n",
    "    seq_info = []\n",
    "    seqCount = 0\n",
    "    bpCount = 0\n",
    "\n",
    "    # Scan through file line by line counting sequences and basepairs \n",
    "    for line in fileHandle:\n",
    "      seqMatch = re.search(r'>', line)\n",
    "      if seqMatch:\n",
    "        seqCount += 1\n",
    "      else:\n",
    "        bpCount += len(line.strip())\n",
    "    \n",
    "    # Close the file    \n",
    "    fileHandle.close()\n",
    "\n",
    "\n",
    "    # Store seqCount and bpCount in seq_info and return it \n",
    "    seq_info.append(seqCount)\n",
    "    seq_info.append(bpCount)\n",
    "    return (print(f'Number of contigs: {seq_info[0]}\\nNumber of total base pairs in the file: {seq_info[1]}'))"
   ]
  },
  {
   "cell_type": "code",
   "execution_count": null,
   "metadata": {},
   "outputs": [],
   "source": [
    "def bp_length(filepath,len):\n",
    "    \"\"\"\n",
    "    -------------------------------------------------------------------\n",
    "    bp_length\n",
    "    \n",
    "    Process a fasta file\n",
    "    Generates a new fasta file with contigs with user defined base pair length.  \n",
    "    -------------------------------------------------------------------\n",
    "    \"\"\"\n",
    "\n",
    "    filtered =  []\n",
    "    \n",
    "    # looping through all the contigs \n",
    "    for seq_record in SeqIO.parse(filepath,'fasta'):\n",
    "        \n",
    "        #splitting the header with seperator '_'\n",
    "        heading = seq_record.id.split('_') \n",
    "\n",
    "        # extracting the 3rd element that is the bp length\n",
    "        length = int(heading[3])\n",
    "\n",
    "        # for filtering the lengths which are more than user provided bp\n",
    "        if(length > len):\n",
    "            id = seq_record.id\n",
    "            filtered_seq = (seq_record.seq)\n",
    "            filtered.append(str('>' + id+ ('\\n') + str(filtered_seq) + '\\n'))\n",
    "\n",
    "        \n",
    "    # writing the sequences into a new fasta file\n",
    "    completeName = os.path.join(save_path,name+'_'+str(len)+\".fasta\") \n",
    "    fasta = open(completeName,'a')\n",
    "    for i in filtered:\n",
    "        fasta.write(i + '\\n')\n",
    "    fasta.close()"
   ]
  },
  {
   "cell_type": "code",
   "execution_count": null,
   "metadata": {},
   "outputs": [],
   "source": [
    "for files in (os.listdir(dirPath)):\n",
    "    if files.endswith(ext):\n",
    "        contigs = files\n",
    "        oldfilename = contigs.split('_')\n",
    "        filename = oldfilename[0]\n",
    "        \n",
    "        \n",
    "        # for generating the name of the ouput file from the inpur file\n",
    "        # the path where the fasta files to be filtered are saved for getting the name of the file\n",
    "        filepath = f'{dirPath}/{contigs}' \n",
    "        \n",
    "        # the path where the filtered files should be stored\n",
    "        save_path = f'{dirPath}filtered_fasta' \n",
    "        \n",
    "        name = Path(filepath).stem\n",
    "        filehandle = open(filepath,'r')\n",
    "      \n",
    "        print(f'File name: {name}')\n",
    "        # checking the fasta file\n",
    "        is_fasta(filepath)\n",
    "        \n",
    "        #getting the general description of the fasta file \n",
    "        fastainfo(filehandle)\n",
    "        \n",
    "        # for getting a fasta file with contigs greater than 500 bp \n",
    "        bp_length(filepath,500)\n",
    "        \n",
    "        print('\\n')"
   ]
  },
  {
   "cell_type": "code",
   "execution_count": null,
   "metadata": {},
   "outputs": [],
   "source": [
    "# the path of the directory where the filtered fasta is stored \n",
    "savedDir = f'{dirPath}/filtered_fasta/'\n",
    "\n",
    "def newfastainfo(savedDir):\n",
    "    \"\"\"\n",
    "    Takes in the path of the folder where the filtered fasta is stored and gives the general description of the \n",
    "    fasta file with the fastainfo function\n",
    "    \n",
    "    \"\"\"\n",
    "    ext = '.fasta'\n",
    "    for files in (os.listdir(savedDir)):\n",
    "            if files.endswith(ext):\n",
    "                contigs = files\n",
    "                \n",
    "                filepath = f'{savedDir}{contigs}'\n",
    "                filehandle = open(filepath,'r')\n",
    "                name = Path(filepath).stem\n",
    "                \n",
    "                #generating the information about filtered file\n",
    "                print(f'File name: {name}')\n",
    "                fastainfo(filehandle)\n",
    "                \n",
    "                print('\\n')"
   ]
  },
  {
   "cell_type": "code",
   "execution_count": null,
   "metadata": {},
   "outputs": [],
   "source": [
    "newfastainfo(savedDir)"
   ]
  }
 ],
 "metadata": {
  "kernelspec": {
   "display_name": "Python 3.8.13 ('biopy')",
   "language": "python",
   "name": "python3"
  },
  "language_info": {
   "codemirror_mode": {
    "name": "ipython",
    "version": 3
   },
   "file_extension": ".py",
   "mimetype": "text/x-python",
   "name": "python",
   "nbconvert_exporter": "python",
   "pygments_lexer": "ipython3",
   "version": "3.8.13"
  },
  "orig_nbformat": 4,
  "vscode": {
   "interpreter": {
    "hash": "1063c32b310d92779923bb3e648fb299096c9fcf42248349ca47f43d559c6702"
   }
  }
 },
 "nbformat": 4,
 "nbformat_minor": 2
}
